{
 "cells": [
  {
   "cell_type": "code",
   "execution_count": 1,
   "metadata": {},
   "outputs": [],
   "source": [
    "from sympy import *\n"
   ]
  },
  {
   "cell_type": "code",
   "execution_count": 2,
   "metadata": {},
   "outputs": [
    {
     "data": {
      "text/latex": [
       "$\\displaystyle \\left[\\begin{matrix}\\frac{127}{48}\\\\- \\frac{41}{48}\\\\- \\frac{33}{4}\\\\\\frac{8}{3}\\\\\\frac{247}{48}\\end{matrix}\\right]$"
      ],
      "text/plain": [
       "Matrix([\n",
       "[127/48],\n",
       "[-41/48],\n",
       "[ -33/4],\n",
       "[   8/3],\n",
       "[247/48]])"
      ]
     },
     "execution_count": 2,
     "metadata": {},
     "output_type": "execute_result"
    }
   ],
   "source": [
    "#1. Solve the following system using the method of matrix inversion\n",
    "B=Matrix([[5,2,0,-4,1],[3,1,-2,0,-4],[-1,0,3,1,5],[2,3,1,4,-1],[0,1,1,-2,3]])\n",
    "A=Matrix([6,3,1,0,1])\n",
    "B.inv()*A"
   ]
  },
  {
   "cell_type": "markdown",
   "metadata": {},
   "source": [
    "2. Use the lu command in MatLab to find the LU factorization for the coefficient matrix in question 1. Use this LU factorization to solve the system in qustion 1. Is this solution the same?"
   ]
  },
  {
   "cell_type": "code",
   "execution_count": 3,
   "metadata": {},
   "outputs": [
    {
     "data": {
      "text/latex": [
       "$\\displaystyle \\left[\\begin{matrix}\\frac{127}{48}\\\\- \\frac{41}{48}\\\\- \\frac{33}{4}\\\\\\frac{8}{3}\\\\\\frac{247}{48}\\end{matrix}\\right]$"
      ],
      "text/plain": [
       "Matrix([\n",
       "[127/48],\n",
       "[-41/48],\n",
       "[ -33/4],\n",
       "[   8/3],\n",
       "[247/48]])"
      ]
     },
     "execution_count": 3,
     "metadata": {},
     "output_type": "execute_result"
    }
   ],
   "source": [
    "B.inv(method=\"LU\")*A\n",
    "#Yes, the answers are the same."
   ]
  },
  {
   "cell_type": "code",
   "execution_count": 4,
   "metadata": {},
   "outputs": [
    {
     "name": "stdout",
     "output_type": "stream",
     "text": [
      "col A = [Matrix([\n",
      "[-8],\n",
      "[-5],\n",
      "[10],\n",
      "[ 3]]), Matrix([\n",
      "[ 5],\n",
      "[ 2],\n",
      "[-8],\n",
      "[-2]]), Matrix([\n",
      "[ 0],\n",
      "[-2],\n",
      "[-3],\n",
      "[ 0]])]\n",
      "nul A = [Matrix([\n",
      "[1],\n",
      "[2],\n",
      "[1],\n",
      "[0]])]\n"
     ]
    },
    {
     "data": {
      "text/plain": [
       "False"
      ]
     },
     "execution_count": 4,
     "metadata": {},
     "output_type": "execute_result"
    }
   ],
   "source": [
    "#3.a. Deterermine wheather w is in the column, null, both, or neither space of n\n",
    "A=Matrix([[-8,5,-2,0],[-5,2,1,-2],[10,-8,6,-3],[3,-2,1,0]])\n",
    "w=Matrix([1,2,1,0])\n",
    "print(\"col A =\", A.columnspace())\n",
    "print(\"nul A =\", A.nullspace())\n",
    "A.nullspace()==w"
   ]
  },
  {
   "cell_type": "code",
   "execution_count": 5,
   "metadata": {},
   "outputs": [
    {
     "name": "stdout",
     "output_type": "stream",
     "text": [
      "rank A = 3\n",
      "Because the rank is equal to the column space of the matrix, and because the column space plus the null space is equal to the numer of columns of the matrix, the null space can be found by simple subtraction:\n",
      "number of rows of A - rank A = nul A\n",
      "4 - rank A = 1\n"
     ]
    }
   ],
   "source": [
    "#b. Use the rank command to find the rank of A. Then find the dimension of the null space of A without finding the null space directly.\n",
    "print(\"rank A =\",A.rank())\n",
    "print(\"Because the rank is equal to the column space of the matrix, and because the column space plus the null space is equal to the numer of columns of the matrix, the null space can be found by simple subtraction:\")\n",
    "print(\"number of rows of A - rank A = nul A\")\n",
    "print(\"4 - rank A =\",(4-(A.rank())))"
   ]
  },
  {
   "cell_type": "markdown",
   "metadata": {},
   "source": [
    "4. Assume that there are three political parties (Republican, Democrat, and Independent) which have consistent voting patterns from year to year represented by the following stochastic matrix T and the initial voter distribution: $$ T = \\bordermatrix{ ~ & R & D & I \\cr R & 0.72 & 0.31 & 0.21 \\cr D & 0.08 & 0.58 & 0.21 \\cr I & 0.2 & 0.11 & 0.64 \\cr} \\mathrm{and}   $$"
   ]
  },
  {
   "cell_type": "code",
   "execution_count": 11,
   "metadata": {},
   "outputs": [
    {
     "data": {
      "text/plain": [
       "(Matrix([\n",
       " [1, 0,  -1.38038793103448],\n",
       " [0, 1, -0.762931034482759],\n",
       " [0, 0,                  0]]), (0, 1))"
      ]
     },
     "execution_count": 11,
     "metadata": {},
     "output_type": "execute_result"
    }
   ],
   "source": [
    "T=Matrix([[.72,.31,.15],[.08,.58,.21],[.2,.11,.64]])\n",
    "T-eye(3)\n",
    "#Because the matrix created by this can't be manipulated easily, I went with the bruteforce method.\n",
    "TS=Matrix([[-.28,.31,.15],[.08,-.42,.21],[.2,.11,-.36]])\n",
    "TS.rref()\n"
   ]
  },
  {
   "cell_type": "markdown",
   "metadata": {},
   "source": [
    "5.  A city is served by two newspapers, the Star and the Times. Each year, the Star loses 23% of its subscribers to the Times and retains 77% of its subscribers. During the same time period, the Times loses 16% of its subscribers to the Star while retaining the other 84%"
   ]
  },
  {
   "cell_type": "code",
   "execution_count": 7,
   "metadata": {},
   "outputs": [],
   "source": [
    "#a. Write down a Markov matrix that describes the transition of subscribers between the two papers each year.\n",
    "N=Matrix([[.77,.16],[.23,.84]])"
   ]
  },
  {
   "cell_type": "code",
   "execution_count": 8,
   "metadata": {},
   "outputs": [
    {
     "data": {
      "text/plain": [
       "(Matrix([\n",
       " [1, -0.695652173913043],\n",
       " [0,                  0]]), (0,))"
      ]
     },
     "execution_count": 8,
     "metadata": {},
     "output_type": "execute_result"
    }
   ],
   "source": [
    "#b. Find the steady-state vector for the matrix in (a).\n",
    "#Using simple math, the steady-state vector for a 2x2 can be visually computed.\n",
    "F=Matrix([[-.23,.16],[.23,-.16]])\n",
    "F.rref()"
   ]
  },
  {
   "cell_type": "code",
   "execution_count": 9,
   "metadata": {},
   "outputs": [],
   "source": [
    "#c. After many years, approximately what percentage of the subscribers will subscribe to the Times?"
   ]
  },
  {
   "cell_type": "markdown",
   "metadata": {},
   "source": [
    "6(a). Is the set of all vectors of the form where a subspace of ?"
   ]
  },
  {
   "cell_type": "code",
   "execution_count": null,
   "metadata": {},
   "outputs": [],
   "source": []
  },
  {
   "cell_type": "code",
   "execution_count": null,
   "metadata": {},
   "outputs": [],
   "source": []
  }
 ],
 "metadata": {
  "kernelspec": {
   "display_name": "Python 3",
   "language": "python",
   "name": "python3"
  },
  "language_info": {
   "codemirror_mode": {
    "name": "ipython",
    "version": 3
   },
   "file_extension": ".py",
   "mimetype": "text/x-python",
   "name": "python",
   "nbconvert_exporter": "python",
   "pygments_lexer": "ipython3",
   "version": "3.7.3"
  }
 },
 "nbformat": 4,
 "nbformat_minor": 2
}
